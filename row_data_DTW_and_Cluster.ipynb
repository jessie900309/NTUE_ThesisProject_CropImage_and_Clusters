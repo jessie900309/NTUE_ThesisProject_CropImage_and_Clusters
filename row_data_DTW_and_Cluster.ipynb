{
 "cells": [
  {
   "cell_type": "markdown",
   "id": "ea5605b2",
   "metadata": {},
   "source": [
    "### Step 0. row data"
   ]
  },
  {
   "cell_type": "code",
   "execution_count": 17,
   "id": "4fdd6602",
   "metadata": {},
   "outputs": [],
   "source": [
    "import os\n",
    "import pandas as pd\n",
    "import numpy as np\n",
    "from sklearn import metrics\n",
    "from sklearn.cluster import DBSCAN"
   ]
  },
  {
   "cell_type": "code",
   "execution_count": 18,
   "id": "6e11f36c",
   "metadata": {},
   "outputs": [],
   "source": [
    "def get_XY(folder_path, set_color):\n",
    "    y_age = []\n",
    "    all_data = []\n",
    "    file_names = os.listdir(folder_path)\n",
    "    for file_name in file_names:\n",
    "        # Y\n",
    "        age = int(file_name[2])\n",
    "        y_age.append(age)\n",
    "        # X\n",
    "        file_path = os.path.join(folder_path, file_name)\n",
    "        df = pd.read_csv(file_path)\n",
    "        if set_color == 'all':\n",
    "            selected_data = df.iloc[:, -3:].values.T\n",
    "        elif set_color == 'R':\n",
    "            selected_data = df.iloc[:, -3:-2].values.T\n",
    "        elif set_color == 'G':\n",
    "            selected_data = df.iloc[:, -2:-1].values.T\n",
    "        elif set_color == 'B':\n",
    "            selected_data = df.iloc[:, -1:].values.T\n",
    "        all_data.append(selected_data)\n",
    "    # 轉numpy array\n",
    "    data = np.array(all_data)\n",
    "    reshaped_data = data.reshape((len(file_names), -1))\n",
    "    y_true = np.array(y_age)\n",
    "    return reshaped_data, y_true"
   ]
  },
  {
   "cell_type": "code",
   "execution_count": 19,
   "id": "576748ef",
   "metadata": {},
   "outputs": [
    {
     "name": "stdout",
     "output_type": "stream",
     "text": [
      "X_all :  (54, 1800) \n",
      " [5097 5214 5244 5032 5030 5012 5054 4951 5035 4892]\n",
      "X_red :  (54, 600) \n",
      " [5097 5214 5244 5032 5030 5012 5054 4951 5035 4892]\n",
      "X_green :  (54, 600) \n",
      " [10227 10248 10328 10337 10330 10314 10284 10288 10234 10293]\n",
      "X_brown :  (54, 600) \n",
      " [32474 32383 32468 32484 32633 33040 32921 33020 32896 33185]\n",
      "y_true :  (54,) \n",
      " 3\n"
     ]
    }
   ],
   "source": [
    "f_path = 'C:/Users/zombie/PycharmProjects/NTUE_ThesisProject_ImageProcessing/datasets/frames_row_data_Ruifang'\n",
    "X_all, y_true = get_XY(folder_path=f_path, set_color='all')\n",
    "X_red, y_true = get_XY(folder_path=f_path, set_color='R')\n",
    "X_green, y_true = get_XY(folder_path=f_path, set_color='G')\n",
    "X_brown, y_true = get_XY(folder_path=f_path, set_color='B')\n",
    "print(\"X_all : \", X_all.shape, \"\\n\", X_all[0][:10])\n",
    "print(\"X_red : \", X_red.shape, \"\\n\", X_red[0][:10])\n",
    "print(\"X_green : \", X_green.shape, \"\\n\", X_green[0][:10])\n",
    "print(\"X_brown : \", X_brown.shape, \"\\n\", X_brown[0][:10])\n",
    "print(\"y_true : \", y_true.shape, \"\\n\", y_true[0])"
   ]
  },
  {
   "cell_type": "markdown",
   "id": "75bd93ec",
   "metadata": {},
   "source": [
    "### Step 1. DTW (find Reference)"
   ]
  },
  {
   "cell_type": "code",
   "execution_count": 23,
   "id": "1993b308",
   "metadata": {},
   "outputs": [],
   "source": [
    "from dtw import dtw\n",
    "def call_DTW(X, Y):\n",
    "    l2_norm = lambda X, Y: (X - Y) ** 2\n",
    "    dist, cost_matrix, acc_cost_matrix, path = dtw(X, Y, dist=l2_norm)\n",
    "    return dist"
   ]
  },
  {
   "cell_type": "code",
   "execution_count": 24,
   "id": "aaa2fc07",
   "metadata": {},
   "outputs": [],
   "source": [
    "def DTWtoReference(color):\n",
    "    if color == 'red':\n",
    "        work_list = X_red\n",
    "    if color == 'green':\n",
    "        work_list = X_green\n",
    "    if color == 'brown':\n",
    "        work_list = X_brown\n",
    "    all_dist = []\n",
    "    loop_cnt = 0\n",
    "    for work1 in work_list:\n",
    "        loop_cnt += 1\n",
    "        work1_dist = 0\n",
    "        for work2 in work_list:\n",
    "            dist = call_DTW(work1, work2) / (10**5)\n",
    "            work1_dist += dist\n",
    "        all_dist.append(work1_dist)\n",
    "    # reference_data_index = all_dist.index(min(all_dist))\n",
    "    # print(f\"reference : index[{all_dist.index(min(all_dist))}] min={min(all_dist)}\")\n",
    "    return all_dist"
   ]
  },
  {
   "cell_type": "code",
   "execution_count": 6,
   "id": "d0271385",
   "metadata": {
    "scrolled": false
   },
   "outputs": [],
   "source": [
    "red_dist = DTWtoReference(color='red')"
   ]
  },
  {
   "cell_type": "code",
   "execution_count": 10,
   "id": "5db48f77",
   "metadata": {},
   "outputs": [],
   "source": [
    "green_dist = DTWtoReference(color='green')"
   ]
  },
  {
   "cell_type": "code",
   "execution_count": 11,
   "id": "421f5b25",
   "metadata": {},
   "outputs": [],
   "source": [
    "brown_dist = DTWtoReference(color='brown')"
   ]
  },
  {
   "cell_type": "code",
   "execution_count": 14,
   "id": "c73209a6",
   "metadata": {},
   "outputs": [
    {
     "name": "stdout",
     "output_type": "stream",
     "text": [
      "Red : \n",
      "[25] [45] [43] [11] [31] [30] [48] [18] [19] [27] [10] [32] [16] [39] [26] [51] [12] [49] [52] [17] [46] [42] [44] [40] [53] [14] [50] [29] [5] [13] [23] [34] [37] [20] [21] [41] [38] [22] [47] [33] [36] [9] [24] [35] [15] [3] [28] [4] [1] [8] [7] [6] [2] [0] \n",
      "Green : \n",
      "[5] [37] [48] [27] [25] [45] [15] [33] [26] [51] [20] [44] [21] [7] [47] [43] [29] [4] [16] [24] [11] [31] [22] [12] [39] [52] [53] [50] [36] [0] [14] [13] [35] [8] [34] [38] [40] [1] [9] [49] [46] [18] [19] [30] [41] [32] [42] [28] [2] [17] [10] [23] [6] [3] \n",
      "Brown : \n",
      "[4] [14] [35] [26] [39] [28] [32] [49] [50] [21] [36] [43] [46] [12] [33] [29] [53] [45] [16] [31] [34] [25] [7] [27] [37] [18] [30] [24] [13] [48] [44] [51] [5] [17] [40] [47] [52] [20] [23] [15] [9] [19] [42] [22] [38] [41] [1] [3] [8] [10] [11] [6] [2] [0] "
     ]
    }
   ],
   "source": [
    "with open('red_dist.txt', 'w') as f:\n",
    "    for line in red_dist:\n",
    "        f.write(str(red_dist.index(line)))\n",
    "        f.write('  ')\n",
    "        f.write(str(line))\n",
    "        f.write('\\n')\n",
    "Sort_red = sorted(red_dist)\n",
    "print(\"Red : \")\n",
    "for r in Sort_red:\n",
    "    print(f\"[{red_dist.index(r)}] \", end='')\n",
    "\n",
    "with open('green_dist.txt', 'w') as f:\n",
    "    for line in green_dist:\n",
    "        f.write(str(green_dist.index(line)))\n",
    "        f.write('  ')\n",
    "        f.write(str(line))\n",
    "        f.write('\\n')\n",
    "Sort_green = sorted(green_dist)\n",
    "print(\"\\nGreen : \")\n",
    "for g in Sort_green:\n",
    "    print(f\"[{green_dist.index(g)}] \", end='')\n",
    "\n",
    "with open('brown_dist.txt', 'w') as f:\n",
    "    for line in brown_dist:\n",
    "        f.write(str(brown_dist.index(line)))\n",
    "        f.write('  ')\n",
    "        f.write(str(line))\n",
    "        f.write('\\n')\n",
    "Sort_brown = sorted(brown_dist)\n",
    "print(\"\\nBrown : \")\n",
    "for r in Sort_brown:\n",
    "    print(f\"[{brown_dist.index(r)}] \", end='')"
   ]
  },
  {
   "cell_type": "code",
   "execution_count": 14,
   "id": "fc2d9993",
   "metadata": {},
   "outputs": [],
   "source": [
    "reference_data_index = 25"
   ]
  },
  {
   "cell_type": "code",
   "execution_count": 15,
   "id": "ccb1a7ea",
   "metadata": {},
   "outputs": [
    {
     "data": {
      "image/png": "[encoded data removed]",
      "text/plain": [
       "<Figure size 200x200 with 1 Axes>"
      ]
     },
     "metadata": {},
     "output_type": "display_data"
    }
   ],
   "source": [
    "from PIL import Image\n",
    "import os\n",
    "import matplotlib.pyplot as plt\n",
    "\n",
    "f_path = 'C:/Users/zombie/PycharmProjects/NTUE_ThesisProject_ImageProcessing/data_testimage/data_testimage_TPH_Ruifang/'\n",
    "reference_path = f_path + os.listdir(f_path)[reference_data_index]\n",
    "tomato_img = Image.open(reference_path)\n",
    "\n",
    "fig = plt.gcf()\n",
    "fig.set_size_inches(2,2)\n",
    "plt.imshow(tomato_img, cmap='binary')\n",
    "plt.show()"
   ]
  },
  {
   "cell_type": "markdown",
   "id": "58f88495",
   "metadata": {},
   "source": [
    "### Step 2. circular DTW (find bias)"
   ]
  },
  {
   "cell_type": "code",
   "execution_count": 25,
   "id": "2fc0d3c2",
   "metadata": {},
   "outputs": [],
   "source": [
    "# 以紅色為基準\n",
    "reference_X0 = X_red[reference_data_index] # index[25]"
   ]
  },
  {
   "cell_type": "code",
   "execution_count": 26,
   "id": "7dedc12f",
   "metadata": {},
   "outputs": [],
   "source": [
    "import csv\n",
    "def circularDTW():\n",
    "    # 以紅色為基準\n",
    "    work_list = X_red\n",
    "    # 循環對齊後，存為redCSV，紀錄偏移量 bias\n",
    "    with open('shift_red.csv', 'w', newline='') as csvfile:\n",
    "        writer = csv.writer(csvfile)\n",
    "        bias_list = []\n",
    "        for i in range(len(work_list)):\n",
    "            work = work_list[i]\n",
    "            min_distance = call_DTW(work, reference_X0)\n",
    "            min_work = work\n",
    "            bias = 0\n",
    "            for shift in range(len(work)):\n",
    "                work = np.append(work[1:],[work[0]]) # 將[0]移至[last]\n",
    "                dist = call_DTW(work, reference_X0)\n",
    "                if dist < min_distance:\n",
    "                    min_distance = dist\n",
    "                    min_work = work\n",
    "                    # 偏移量 bias\n",
    "                    bias = shift+1\n",
    "            # 紀錄偏移量 bias\n",
    "            bias_list.append(bias)\n",
    "            # writerow\n",
    "            new_row = min_work - reference_X0\n",
    "            writer.writerow(new_row)\n",
    "    return bias_list"
   ]
  },
  {
   "cell_type": "code",
   "execution_count": 27,
   "id": "831a7d28",
   "metadata": {},
   "outputs": [],
   "source": [
    "red_bias_list = circularDTW()"
   ]
  },
  {
   "cell_type": "code",
   "execution_count": 30,
   "id": "f7a4d5a8",
   "metadata": {},
   "outputs": [
    {
     "name": "stdout",
     "output_type": "stream",
     "text": [
      "[427, 66, 588, 408, 226, 163, 185, 589, 587, 89, 244, 349, 545, 542, 564, 576, 598, 306, 385, 311, 564, 358, 439, 321, 21, 0, 432, 79, 9, 507, 488, 180, 255, 409, 574, 536, 494, 497, 1, 455, 174, 512, 369, 591, 169, 116, 149, 293, 135, 150, 461, 308, 468, 599]\n"
     ]
    }
   ],
   "source": [
    "print(red_bias_list)\n",
    "with open('get_bias_from_red_idx25.txt', 'w') as f:\n",
    "    for line in red_bias_list:\n",
    "        f.write(str(red_bias_list.index(line)))\n",
    "        f.write('  ')\n",
    "        f.write(str(line))\n",
    "        f.write('\\n')"
   ]
  },
  {
   "cell_type": "markdown",
   "id": "0edcf0c2",
   "metadata": {},
   "source": [
    "### Step 3. align with reference"
   ]
  },
  {
   "cell_type": "code",
   "execution_count": 35,
   "id": "dea8a9a2",
   "metadata": {},
   "outputs": [],
   "source": [
    "# 以index[25]紅色為基準的偏移量 red_bias_list\n",
    "# shift 綠色與棕色\n",
    "def shift_row_data(color):\n",
    "    if color == 'green':\n",
    "        work_list = X_green\n",
    "        reference_X = X_green[reference_data_index] # index[25]\n",
    "    if color == 'brown':\n",
    "        work_list = X_brown\n",
    "        reference_X = X_brown[reference_data_index] # index[25]\n",
    "    # 循環對齊\n",
    "    with open(f'shift_{color}.csv', 'w', newline='') as csvfile:\n",
    "        writer = csv.writer(csvfile)\n",
    "        for i in range(len(work_list)):\n",
    "            red_bias = red_bias_list[i]\n",
    "            work = work_list[i]\n",
    "            for _ in range(red_bias):\n",
    "                work = np.append(work[1:],[work[0]])\n",
    "            # writerow\n",
    "            new_row = work - reference_X\n",
    "            writer.writerow(new_row)"
   ]
  },
  {
   "cell_type": "code",
   "execution_count": 36,
   "id": "a7a88d1a",
   "metadata": {},
   "outputs": [],
   "source": [
    "shift_row_data('green')"
   ]
  },
  {
   "cell_type": "code",
   "execution_count": 37,
   "id": "a9f758aa",
   "metadata": {},
   "outputs": [],
   "source": [
    "shift_row_data('brown')"
   ]
  },
  {
   "cell_type": "markdown",
   "id": "6f318757",
   "metadata": {},
   "source": [
    "### Step 4-0. Data"
   ]
  },
  {
   "cell_type": "code",
   "execution_count": null,
   "id": "a310f617",
   "metadata": {},
   "outputs": [],
   "source": [
    "import os\n",
    "import numpy as np\n",
    "def get_Y(folder_path):\n",
    "    y_age = []\n",
    "    file_names = os.listdir(folder_path)\n",
    "    for file_name in file_names:\n",
    "        age = int(file_name[2])\n",
    "        y_age.append(age)\n",
    "    # 轉numpy array\n",
    "    y_true = np.array(y_age)\n",
    "    return y_true"
   ]
  },
  {
   "cell_type": "code",
   "execution_count": null,
   "id": "4bfd50b8",
   "metadata": {},
   "outputs": [],
   "source": [
    "f_path = 'C:/Users/zombie/PycharmProjects/NTUE_ThesisProject_ImageProcessing/datasets/frames_row_data_Ruifang'\n",
    "y_true = get_Y(folder_path=f_path)\n",
    "print(\"y_true : \", y_true.shape, \"\\n\", y_true[0])"
   ]
  },
  {
   "cell_type": "code",
   "execution_count": null,
   "id": "d504fadc",
   "metadata": {},
   "outputs": [],
   "source": [
    "import pandas as pd\n",
    "X_data = np.array(pd.read_csv(\"row_data_1800RF.csv\", header=None))\n",
    "print(\"X_data : \", X_data.shape, \"\\n\", X_data[0])"
   ]
  },
  {
   "cell_type": "markdown",
   "id": "23dc51b5",
   "metadata": {},
   "source": [
    "### Step 4-1. Kmeans"
   ]
  },
  {
   "cell_type": "code",
   "execution_count": null,
   "id": "88acc2c8",
   "metadata": {},
   "outputs": [],
   "source": [
    "from sklearn.cluster import KMeans\n",
    "from sklearn.metrics import silhouette_score\n",
    "import matplotlib.pyplot as plt\n",
    "silhouette_avg = []\n",
    "for i in range(2,20):\n",
    "    kmeans_fit = KMeans(n_clusters=i, max_iter=1000).fit(X_data)\n",
    "    silhouette_avg.append(silhouette_score(X_data, kmeans_fit.labels_))\n",
    "plt.plot(range(2,20), silhouette_avg)"
   ]
  },
  {
   "cell_type": "code",
   "execution_count": null,
   "id": "ee244061",
   "metadata": {},
   "outputs": [],
   "source": [
    "k_means = KMeans(n_clusters=3, max_iter=1000)\n",
    "k_means.fit(X_data) # 訓練\n",
    "y_kmeans = k_means.predict(X_data) # 預測"
   ]
  },
  {
   "cell_type": "code",
   "execution_count": null,
   "id": "e1e140fe",
   "metadata": {},
   "outputs": [],
   "source": [
    "from sklearn.metrics.cluster import adjusted_rand_score\n",
    "adjusted_rand_score(y_true, y_kmeans)"
   ]
  },
  {
   "cell_type": "markdown",
   "id": "f717a33d",
   "metadata": {},
   "source": [
    "### Step 4-2. DBSCAN"
   ]
  },
  {
   "cell_type": "code",
   "execution_count": null,
   "id": "e71d4146",
   "metadata": {},
   "outputs": [],
   "source": [
    "from sklearn.cluster import DBSCAN\n",
    "db = DBSCAN(eps=150000, min_samples=5).fit(X_data)\n",
    "labels = db.labels_\n",
    "\n",
    "# Number of clusters in labels, ignoring noise if present.\n",
    "n_clusters_ = len(set(labels)) - (1 if -1 in labels else 0)\n",
    "n_noise_ = list(labels).count(-1)\n",
    "\n",
    "print(\"Estimated number of clusters: %d\" % n_clusters_)\n",
    "print(\"Estimated number of noise points: %d\" % n_noise_)"
   ]
  },
  {
   "cell_type": "code",
   "execution_count": null,
   "id": "db037a86",
   "metadata": {},
   "outputs": [],
   "source": []
  }
 ],
 "metadata": {
  "kernelspec": {
   "display_name": "Python 3 (ipykernel)",
   "language": "python",
   "name": "python3"
  },
  "language_info": {
   "codemirror_mode": {
    "name": "ipython",
    "version": 3
   },
   "file_extension": ".py",
   "mimetype": "text/x-python",
   "name": "python",
   "nbconvert_exporter": "python",
   "pygments_lexer": "ipython3",
   "version": "3.7.13"
  }
 },
 "nbformat": 4,
 "nbformat_minor": 5
}
