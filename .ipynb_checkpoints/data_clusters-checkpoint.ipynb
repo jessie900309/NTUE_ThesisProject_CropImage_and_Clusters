{
 "cells": [
  {
   "cell_type": "code",
   "execution_count": 71,
   "id": "92d94bbb",
   "metadata": {},
   "outputs": [],
   "source": [
    "def show_result(y_true, y_predict):\n",
    "    for i in range(len(y_true)):\n",
    "        if y_true[i] == 3:\n",
    "            print(y_true[i], \"  \", y_predict[i])\n",
    "    print(\"-----\")\n",
    "    for i in range(len(y_true)):\n",
    "        if y_true[i] == 4:\n",
    "            print(y_true[i], \"  \", y_predict[i])\n",
    "    print(\"-----\")\n",
    "    for i in range(len(y_true)):\n",
    "        if y_true[i] == 5:\n",
    "            print(y_true[i], \"  \", y_predict[i])\n",
    "    print(\"-----\")\n",
    "    for i in range(len(y_true)):\n",
    "        if y_true[i] == 6:\n",
    "            print(y_true[i], \"  \", y_predict[i])"
   ]
  },
  {
   "cell_type": "markdown",
   "id": "3d501edc",
   "metadata": {},
   "source": [
    "### 原始數據"
   ]
  },
  {
   "cell_type": "code",
   "execution_count": 67,
   "id": "c7a65116",
   "metadata": {},
   "outputs": [],
   "source": [
    "import pandas as pd\n",
    "# 讀取資料\n",
    "csv_data = pd.read_csv('data_csv/data_TPH_Ruifang_54stu.csv')\n",
    "csv_X = csv_data[['total_avg', 'total_std', 'total_var', 'total_max', 'total_min', 'total_q25', 'total_q50', 'total_q75',\n",
    "                 'red_avg', 'red_std', 'red_var', 'red_max', 'red_min', 'red_q25', 'red_q50', 'red_q75',\n",
    "                 'green_avg', 'green_std', 'green_var', 'green_max', 'green_min', 'green_q25', 'green_q50', 'green_q75',\n",
    "                 'brown_avg', 'brown_std', 'brown_var', 'brown_max', 'brown_min', 'brown_q25', 'brown_q50', 'brown_q75']]\n",
    "y_true = csv_data[\"age\"].values.tolist()"
   ]
  },
  {
   "cell_type": "code",
   "execution_count": 68,
   "id": "a2cd5821",
   "metadata": {},
   "outputs": [],
   "source": [
    "from sklearn.cluster import KMeans\n",
    "\n",
    "k_means = KMeans(n_clusters=4)\n",
    "k_means.fit(csv_X) # 訓練\n",
    "\n",
    "y_kmeans = k_means.predict(csv_X) # 預測"
   ]
  },
  {
   "cell_type": "code",
   "execution_count": 72,
   "id": "e625a05e",
   "metadata": {},
   "outputs": [
    {
     "name": "stdout",
     "output_type": "stream",
     "text": [
      "3    1\n",
      "3    2\n",
      "3    0\n",
      "3    2\n",
      "3    3\n",
      "3    3\n",
      "3    1\n",
      "3    1\n",
      "3    1\n",
      "3    1\n",
      "3    1\n",
      "3    1\n",
      "-----\n",
      "4    3\n",
      "4    1\n",
      "4    2\n",
      "4    1\n",
      "4    1\n",
      "4    0\n",
      "4    1\n",
      "4    2\n",
      "4    1\n",
      "4    1\n",
      "4    1\n",
      "4    1\n",
      "4    1\n",
      "4    1\n",
      "4    2\n",
      "4    1\n",
      "4    1\n",
      "4    1\n",
      "-----\n",
      "5    1\n",
      "5    1\n",
      "5    1\n",
      "5    1\n",
      "5    1\n",
      "5    1\n",
      "5    1\n",
      "5    0\n",
      "5    1\n",
      "5    1\n",
      "5    1\n",
      "5    1\n",
      "-----\n",
      "6    1\n",
      "6    1\n",
      "6    1\n",
      "6    1\n",
      "6    1\n",
      "6    1\n",
      "6    1\n",
      "6    1\n",
      "6    1\n",
      "6    1\n",
      "6    1\n",
      "6    1\n"
     ]
    }
   ],
   "source": [
    "show_result(y_true=y_true, y_predict=y_kmeans)"
   ]
  },
  {
   "cell_type": "markdown",
   "id": "fde90a29",
   "metadata": {},
   "source": [
    "### Clip 01"
   ]
  },
  {
   "cell_type": "code",
   "execution_count": 73,
   "id": "38b788d0",
   "metadata": {},
   "outputs": [],
   "source": [
    "import pandas as pd\n",
    "# 讀取資料\n",
    "csv_data = pd.read_csv('data_csv/data_TPH_Ruifang_54stu.csv')\n",
    "csv_X = csv_data[['total_avg', 'total_std', 'total_max', 'total_min', 'total_q25', 'total_q50', 'total_q75',\n",
    "                 'red_avg', 'red_std', 'red_max', 'red_min', 'red_q25', 'red_q50', 'red_q75',\n",
    "                 'green_avg', 'green_std', 'green_max', 'green_min', 'green_q25', 'green_q50', 'green_q75',\n",
    "                 'brown_avg', 'brown_std', 'brown_max', 'brown_min', 'brown_q25', 'brown_q50', 'brown_q75']]\n",
    "y_true = csv_data[\"age\"].values.tolist()"
   ]
  },
  {
   "cell_type": "code",
   "execution_count": 74,
   "id": "2afea833",
   "metadata": {},
   "outputs": [],
   "source": [
    "from sklearn.cluster import KMeans\n",
    "\n",
    "k_means = KMeans(n_clusters=4)\n",
    "k_means.fit(csv_X) # 訓練\n",
    "\n",
    "y_kmeans = k_means.predict(csv_X) # 預測"
   ]
  },
  {
   "cell_type": "code",
   "execution_count": 75,
   "id": "039c49a9",
   "metadata": {},
   "outputs": [
    {
     "name": "stdout",
     "output_type": "stream",
     "text": [
      "3    1\n",
      "3    1\n",
      "3    1\n",
      "3    2\n",
      "3    2\n",
      "3    2\n",
      "3    2\n",
      "3    2\n",
      "3    0\n",
      "3    0\n",
      "3    0\n",
      "3    2\n",
      "-----\n",
      "4    0\n",
      "4    2\n",
      "4    1\n",
      "4    1\n",
      "4    0\n",
      "4    3\n",
      "4    3\n",
      "4    2\n",
      "4    2\n",
      "4    2\n",
      "4    0\n",
      "4    0\n",
      "4    0\n",
      "4    0\n",
      "4    2\n",
      "4    0\n",
      "4    0\n",
      "4    3\n",
      "-----\n",
      "5    2\n",
      "5    0\n",
      "5    3\n",
      "5    2\n",
      "5    2\n",
      "5    0\n",
      "5    3\n",
      "5    0\n",
      "5    2\n",
      "5    2\n",
      "5    2\n",
      "5    0\n",
      "-----\n",
      "6    3\n",
      "6    3\n",
      "6    0\n",
      "6    0\n",
      "6    2\n",
      "6    0\n",
      "6    2\n",
      "6    0\n",
      "6    0\n",
      "6    2\n",
      "6    2\n",
      "6    0\n"
     ]
    }
   ],
   "source": [
    "show_result(y_true=y_true, y_predict=y_kmeans)"
   ]
  },
  {
   "cell_type": "markdown",
   "id": "1dd0d66a",
   "metadata": {},
   "source": [
    "### Clip 02"
   ]
  },
  {
   "cell_type": "code",
   "execution_count": 77,
   "id": "90ebdb99",
   "metadata": {},
   "outputs": [],
   "source": [
    "import pandas as pd\n",
    "from sklearn.preprocessing import StandardScaler\n",
    "csv_data = pd.read_csv('data_csv/data_TPH_Ruifang_54stu.csv')\n",
    "csv_X = csv_data[['total_avg', 'total_std', 'total_max', 'total_min', 'total_q25', 'total_q50', 'total_q75',\n",
    "                 'red_avg', 'red_std', 'red_max', 'red_min', 'red_q25', 'red_q50', 'red_q75',\n",
    "                 'green_avg', 'green_std', 'green_max', 'green_min', 'green_q25', 'green_q50', 'green_q75',\n",
    "                 'brown_avg', 'brown_std', 'brown_max', 'brown_min', 'brown_q25', 'brown_q50', 'brown_q75']]\n",
    "y_true = csv_data[\"age\"].values.tolist()"
   ]
  },
  {
   "cell_type": "code",
   "execution_count": 78,
   "id": "091904bb",
   "metadata": {},
   "outputs": [],
   "source": [
    "# 初始化標準化器\n",
    "scaler = StandardScaler()\n",
    "# 將DataFrame的所有欄位進行標準化\n",
    "df_scaled = pd.DataFrame(scaler.fit_transform(csv_X), columns=csv_X.columns)\n",
    "\n",
    "# print(\"\\n標準化:\")\n",
    "# print(df_scaled)"
   ]
  },
  {
   "cell_type": "code",
   "execution_count": 79,
   "id": "d16ef827",
   "metadata": {},
   "outputs": [],
   "source": [
    "from sklearn.cluster import KMeans\n",
    "\n",
    "k_means = KMeans(n_clusters=4)\n",
    "k_means.fit(df_scaled) # 訓練\n",
    "\n",
    "y_kmeans = k_means.predict(df_scaled) # 預測"
   ]
  },
  {
   "cell_type": "code",
   "execution_count": 80,
   "id": "47a7b917",
   "metadata": {},
   "outputs": [
    {
     "name": "stdout",
     "output_type": "stream",
     "text": [
      "3    2\n",
      "3    2\n",
      "3    2\n",
      "3    0\n",
      "3    3\n",
      "3    0\n",
      "3    0\n",
      "3    3\n",
      "3    3\n",
      "3    1\n",
      "3    1\n",
      "3    3\n",
      "-----\n",
      "4    1\n",
      "4    3\n",
      "4    2\n",
      "4    2\n",
      "4    0\n",
      "4    1\n",
      "4    1\n",
      "4    0\n",
      "4    3\n",
      "4    3\n",
      "4    3\n",
      "4    3\n",
      "4    1\n",
      "4    1\n",
      "4    0\n",
      "4    3\n",
      "4    3\n",
      "4    1\n",
      "-----\n",
      "5    3\n",
      "5    3\n",
      "5    1\n",
      "5    3\n",
      "5    3\n",
      "5    1\n",
      "5    1\n",
      "5    1\n",
      "5    3\n",
      "5    3\n",
      "5    3\n",
      "5    3\n",
      "-----\n",
      "6    1\n",
      "6    1\n",
      "6    3\n",
      "6    3\n",
      "6    3\n",
      "6    3\n",
      "6    3\n",
      "6    3\n",
      "6    3\n",
      "6    3\n",
      "6    3\n",
      "6    3\n"
     ]
    }
   ],
   "source": [
    "show_result(y_true=y_true, y_predict=y_kmeans)"
   ]
  },
  {
   "cell_type": "code",
   "execution_count": null,
   "id": "994beb56",
   "metadata": {},
   "outputs": [],
   "source": []
  }
 ],
 "metadata": {
  "kernelspec": {
   "display_name": "Python 3 (ipykernel)",
   "language": "python",
   "name": "python3"
  },
  "language_info": {
   "codemirror_mode": {
    "name": "ipython",
    "version": 3
   },
   "file_extension": ".py",
   "mimetype": "text/x-python",
   "name": "python",
   "nbconvert_exporter": "python",
   "pygments_lexer": "ipython3",
   "version": "3.7.13"
  }
 },
 "nbformat": 4,
 "nbformat_minor": 5
}
