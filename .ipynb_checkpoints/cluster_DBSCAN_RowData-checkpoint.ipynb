{
 "cells": [
  {
   "cell_type": "code",
   "execution_count": 1,
   "id": "dbb0a6c4",
   "metadata": {},
   "outputs": [],
   "source": [
    "import os\n",
    "import pandas as pd\n",
    "import numpy as np\n",
    "from sklearn import metrics\n",
    "from sklearn.cluster import DBSCAN"
   ]
  },
  {
   "cell_type": "code",
   "execution_count": 2,
   "id": "97d94063",
   "metadata": {},
   "outputs": [],
   "source": [
    "def get_XY(folder_path, set_color):\n",
    "    y_age = []\n",
    "    all_data = []\n",
    "    file_names = os.listdir(folder_path)\n",
    "    for file_name in file_names:\n",
    "        # Y\n",
    "        age = int(file_name[2])\n",
    "        y_age.append(age)\n",
    "        # X\n",
    "        file_path = os.path.join(folder_path, file_name)\n",
    "        df = pd.read_csv(file_path)\n",
    "        if set_color == 'all':\n",
    "            selected_data = df.iloc[:, -3:].values\n",
    "        elif set_color == 'R':\n",
    "            selected_data = df.iloc[:, -3:-2].values\n",
    "        elif set_color == 'G':\n",
    "            selected_data = df.iloc[:, -2:-1].values\n",
    "        elif set_color == 'B':\n",
    "            selected_data = df.iloc[:, -1:].values\n",
    "        all_data.append(selected_data)\n",
    "    # 轉numpy array\n",
    "    data = np.array(all_data)\n",
    "    reshaped_data = data.reshape((len(file_names), -1))\n",
    "    y_true = np.array(y_age)\n",
    "    return reshaped_data, y_true"
   ]
  },
  {
   "cell_type": "markdown",
   "id": "715a7cdf",
   "metadata": {},
   "source": [
    "## RGB RowData"
   ]
  },
  {
   "cell_type": "code",
   "execution_count": 3,
   "id": "170f13aa",
   "metadata": {},
   "outputs": [
    {
     "name": "stdout",
     "output_type": "stream",
     "text": [
      "(54, 1800)\n",
      "(54,)\n",
      "[[ 5097 10227 32474 ...  6599  9714 27738]\n",
      " [27343  6192 21631 ... 22993  6636 20684]\n",
      " [ 9750  4537 25555 ... 11789  4177 25507]\n",
      " ...\n",
      " [23611 11399 14193 ... 24066 10435 13194]\n",
      " [29383 13572 11922 ... 27804  9693 14228]\n",
      " [29960 15391 17641 ... 25685 13247 16111]]\n"
     ]
    }
   ],
   "source": [
    "f_path = 'C:/Users/zombie/PycharmProjects/NTUE_ThesisProject_ImageProcessing/datasets/frames_row_data_Ruifang'\n",
    "X, y_true = get_XY(folder_path=f_path, set_color='all')\n",
    "print(X.shape)\n",
    "print(y_true.shape)\n",
    "print(X)"
   ]
  },
  {
   "cell_type": "markdown",
   "id": "4f9eb7ad",
   "metadata": {},
   "source": [
    "### DBSCAN"
   ]
  },
  {
   "cell_type": "code",
   "execution_count": 4,
   "id": "13012ddb",
   "metadata": {},
   "outputs": [
    {
     "name": "stdout",
     "output_type": "stream",
     "text": [
      "Estimated number of clusters: 1\n",
      "Estimated number of noise points: 20\n"
     ]
    }
   ],
   "source": [
    "db = DBSCAN(eps=140000, min_samples=10).fit(X)\n",
    "labels = db.labels_\n",
    "\n",
    "# Number of clusters in labels, ignoring noise if present.\n",
    "n_clusters_ = len(set(labels)) - (1 if -1 in labels else 0)\n",
    "n_noise_ = list(labels).count(-1)\n",
    "\n",
    "print(\"Estimated number of clusters: %d\" % n_clusters_)\n",
    "print(\"Estimated number of noise points: %d\" % n_noise_)"
   ]
  },
  {
   "cell_type": "code",
   "execution_count": 5,
   "id": "eb1fd5fe",
   "metadata": {},
   "outputs": [
    {
     "name": "stdout",
     "output_type": "stream",
     "text": [
      "Estimated number of clusters: 0\n",
      "Estimated number of noise points: 54\n"
     ]
    }
   ],
   "source": [
    "db = DBSCAN(eps=0.3, min_samples=2).fit(X)\n",
    "labels = db.labels_\n",
    "\n",
    "# Number of clusters in labels, ignoring noise if present.\n",
    "n_clusters_ = len(set(labels)) - (1 if -1 in labels else 0)\n",
    "n_noise_ = list(labels).count(-1)\n",
    "\n",
    "print(\"Estimated number of clusters: %d\" % n_clusters_)\n",
    "print(\"Estimated number of noise points: %d\" % n_noise_)"
   ]
  },
  {
   "cell_type": "markdown",
   "id": "2d812b4e",
   "metadata": {},
   "source": [
    "## R RowData"
   ]
  },
  {
   "cell_type": "code",
   "execution_count": 6,
   "id": "45ca8be1",
   "metadata": {},
   "outputs": [
    {
     "name": "stdout",
     "output_type": "stream",
     "text": [
      "(54, 600)\n",
      "(54,)\n"
     ]
    }
   ],
   "source": [
    "f_path = 'C:/Users/zombie/PycharmProjects/NTUE_ThesisProject_ImageProcessing/datasets/frames_row_data_Ruifang'\n",
    "X, y_true = get_XY(folder_path=f_path, set_color='R')\n",
    "print(X.shape)\n",
    "print(y_true.shape)"
   ]
  },
  {
   "cell_type": "code",
   "execution_count": 7,
   "id": "415babb1",
   "metadata": {},
   "outputs": [
    {
     "name": "stdout",
     "output_type": "stream",
     "text": [
      "Estimated number of clusters: 0\n",
      "Estimated number of noise points: 54\n"
     ]
    }
   ],
   "source": [
    "db = DBSCAN(eps=0.3, min_samples=2).fit(X)\n",
    "labels = db.labels_\n",
    "\n",
    "# Number of clusters in labels, ignoring noise if present.\n",
    "n_clusters_ = len(set(labels)) - (1 if -1 in labels else 0)\n",
    "n_noise_ = list(labels).count(-1)\n",
    "\n",
    "print(\"Estimated number of clusters: %d\" % n_clusters_)\n",
    "print(\"Estimated number of noise points: %d\" % n_noise_)"
   ]
  },
  {
   "cell_type": "markdown",
   "id": "4ac29c8e",
   "metadata": {},
   "source": [
    "## G RowData"
   ]
  },
  {
   "cell_type": "code",
   "execution_count": 8,
   "id": "52aecd97",
   "metadata": {},
   "outputs": [
    {
     "name": "stdout",
     "output_type": "stream",
     "text": [
      "(54, 600)\n",
      "(54,)\n"
     ]
    }
   ],
   "source": [
    "f_path = 'C:/Users/zombie/PycharmProjects/NTUE_ThesisProject_ImageProcessing/datasets/frames_row_data_Ruifang'\n",
    "X, y_true = get_XY(folder_path=f_path, set_color='G')\n",
    "print(X.shape)\n",
    "print(y_true.shape)"
   ]
  },
  {
   "cell_type": "code",
   "execution_count": 9,
   "id": "407a6123",
   "metadata": {},
   "outputs": [
    {
     "name": "stdout",
     "output_type": "stream",
     "text": [
      "Estimated number of clusters: 0\n",
      "Estimated number of noise points: 54\n"
     ]
    }
   ],
   "source": [
    "db = DBSCAN(eps=0.3, min_samples=2).fit(X)\n",
    "labels = db.labels_\n",
    "\n",
    "# Number of clusters in labels, ignoring noise if present.\n",
    "n_clusters_ = len(set(labels)) - (1 if -1 in labels else 0)\n",
    "n_noise_ = list(labels).count(-1)\n",
    "\n",
    "print(\"Estimated number of clusters: %d\" % n_clusters_)\n",
    "print(\"Estimated number of noise points: %d\" % n_noise_)"
   ]
  },
  {
   "cell_type": "markdown",
   "id": "ea7551f0",
   "metadata": {},
   "source": [
    "## B RowData"
   ]
  },
  {
   "cell_type": "code",
   "execution_count": 10,
   "id": "5d423145",
   "metadata": {},
   "outputs": [
    {
     "name": "stdout",
     "output_type": "stream",
     "text": [
      "(54, 600)\n",
      "(54,)\n"
     ]
    }
   ],
   "source": [
    "f_path = 'C:/Users/zombie/PycharmProjects/NTUE_ThesisProject_ImageProcessing/datasets/frames_row_data_Ruifang'\n",
    "X, y_true = get_XY(folder_path=f_path, set_color='B')\n",
    "print(X.shape)\n",
    "print(y_true.shape)"
   ]
  },
  {
   "cell_type": "code",
   "execution_count": 11,
   "id": "34819a74",
   "metadata": {},
   "outputs": [
    {
     "name": "stdout",
     "output_type": "stream",
     "text": [
      "Estimated number of clusters: 0\n",
      "Estimated number of noise points: 54\n"
     ]
    }
   ],
   "source": [
    "db = DBSCAN(eps=0.3, min_samples=2).fit(X)\n",
    "labels = db.labels_\n",
    "\n",
    "# Number of clusters in labels, ignoring noise if present.\n",
    "n_clusters_ = len(set(labels)) - (1 if -1 in labels else 0)\n",
    "n_noise_ = list(labels).count(-1)\n",
    "\n",
    "print(\"Estimated number of clusters: %d\" % n_clusters_)\n",
    "print(\"Estimated number of noise points: %d\" % n_noise_)"
   ]
  },
  {
   "cell_type": "code",
   "execution_count": null,
   "id": "7ef1f4cc",
   "metadata": {},
   "outputs": [],
   "source": []
  }
 ],
 "metadata": {
  "kernelspec": {
   "display_name": "Python 3 (ipykernel)",
   "language": "python",
   "name": "python3"
  },
  "language_info": {
   "codemirror_mode": {
    "name": "ipython",
    "version": 3
   },
   "file_extension": ".py",
   "mimetype": "text/x-python",
   "name": "python",
   "nbconvert_exporter": "python",
   "pygments_lexer": "ipython3",
   "version": "3.7.13"
  }
 },
 "nbformat": 4,
 "nbformat_minor": 5
}
