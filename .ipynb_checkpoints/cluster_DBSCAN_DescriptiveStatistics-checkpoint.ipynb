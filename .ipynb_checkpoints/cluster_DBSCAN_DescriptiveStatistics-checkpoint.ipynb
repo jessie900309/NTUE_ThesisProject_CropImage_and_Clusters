{
 "cells": [
  {
   "cell_type": "code",
   "execution_count": 1,
   "id": "dbb0a6c4",
   "metadata": {},
   "outputs": [],
   "source": [
    "import pandas as pd\n",
    "from sklearn import metrics\n",
    "from sklearn.cluster import DBSCAN"
   ]
  },
  {
   "cell_type": "markdown",
   "id": "715a7cdf",
   "metadata": {},
   "source": [
    "## RGB DescriptiveStatistics"
   ]
  },
  {
   "cell_type": "code",
   "execution_count": 2,
   "id": "170f13aa",
   "metadata": {},
   "outputs": [],
   "source": [
    "csv_data = pd.read_csv('data_csv/data_TPH_Ruifang_54stu.csv')\n",
    "# csv_allX = csv_data[['total_avg', 'total_std', 'total_var', 'total_max', 'total_min', 'total_q25', 'total_q50', 'total_q75',\n",
    "#                  'red_avg', 'red_std', 'red_var', 'red_max', 'red_min', 'red_q25', 'red_q50', 'red_q75',\n",
    "#                  'green_avg', 'green_std', 'green_var', 'green_max', 'green_min', 'green_q25', 'green_q50', 'green_q75',\n",
    "#                  'brown_avg', 'brown_std', 'brown_var', 'brown_max', 'brown_min', 'brown_q25', 'brown_q50', 'brown_q75']]\n",
    "X = csv_data[['red_std', 'red_q25', 'red_q50', 'red_q75',\n",
    "             'green_std', 'green_q25', 'green_q50', 'green_q75',\n",
    "             'brown_std', 'brown_q25', 'brown_q50', 'brown_q75']]\n",
    "y_true = csv_data[\"age\"].values.tolist()"
   ]
  },
  {
   "cell_type": "markdown",
   "id": "4f9eb7ad",
   "metadata": {},
   "source": [
    "### DBSCAN"
   ]
  },
  {
   "cell_type": "code",
   "execution_count": 17,
   "id": "13012ddb",
   "metadata": {},
   "outputs": [
    {
     "name": "stdout",
     "output_type": "stream",
     "text": [
      "Estimated number of clusters: 2\n",
      "Estimated number of noise points: 21\n"
     ]
    }
   ],
   "source": [
    "db = DBSCAN(eps=5000, min_samples=3).fit(X)\n",
    "labels = db.labels_\n",
    "\n",
    "# Number of clusters in labels, ignoring noise if present.\n",
    "n_clusters_ = len(set(labels)) - (1 if -1 in labels else 0)\n",
    "n_noise_ = list(labels).count(-1)\n",
    "\n",
    "print(\"Estimated number of clusters: %d\" % n_clusters_)\n",
    "print(\"Estimated number of noise points: %d\" % n_noise_)"
   ]
  },
  {
   "cell_type": "markdown",
   "id": "2d812b4e",
   "metadata": {},
   "source": [
    "## R DescriptiveStatistics"
   ]
  },
  {
   "cell_type": "code",
   "execution_count": 21,
   "id": "45ca8be1",
   "metadata": {},
   "outputs": [],
   "source": [
    "csv_data = pd.read_csv('data_csv/data_TPH_Ruifang_54stu.csv')\n",
    "X = csv_data[['red_std', 'red_q25', 'red_q50', 'red_q75']]\n",
    "y_true = csv_data[\"age\"].values.tolist()"
   ]
  },
  {
   "cell_type": "code",
   "execution_count": 24,
   "id": "415babb1",
   "metadata": {},
   "outputs": [
    {
     "name": "stdout",
     "output_type": "stream",
     "text": [
      "Estimated number of clusters: 1\n",
      "Estimated number of noise points: 12\n"
     ]
    }
   ],
   "source": [
    "db = DBSCAN(eps=2500, min_samples=3).fit(X)\n",
    "labels = db.labels_\n",
    "\n",
    "# Number of clusters in labels, ignoring noise if present.\n",
    "n_clusters_ = len(set(labels)) - (1 if -1 in labels else 0)\n",
    "n_noise_ = list(labels).count(-1)\n",
    "\n",
    "print(\"Estimated number of clusters: %d\" % n_clusters_)\n",
    "print(\"Estimated number of noise points: %d\" % n_noise_)"
   ]
  },
  {
   "cell_type": "markdown",
   "id": "4ac29c8e",
   "metadata": {},
   "source": [
    "## G DescriptiveStatistics"
   ]
  },
  {
   "cell_type": "code",
   "execution_count": 25,
   "id": "52aecd97",
   "metadata": {},
   "outputs": [],
   "source": [
    "csv_data = pd.read_csv('data_csv/data_TPH_Ruifang_54stu.csv')\n",
    "X = csv_data[['green_std', 'green_q25', 'green_q50', 'green_q75']]\n",
    "y_true = csv_data[\"age\"].values.tolist()"
   ]
  },
  {
   "cell_type": "code",
   "execution_count": 29,
   "id": "407a6123",
   "metadata": {},
   "outputs": [
    {
     "name": "stdout",
     "output_type": "stream",
     "text": [
      "Estimated number of clusters: 2\n",
      "Estimated number of noise points: 6\n"
     ]
    }
   ],
   "source": [
    "db = DBSCAN(eps=2500, min_samples=3).fit(X)\n",
    "labels = db.labels_\n",
    "\n",
    "# Number of clusters in labels, ignoring noise if present.\n",
    "n_clusters_ = len(set(labels)) - (1 if -1 in labels else 0)\n",
    "n_noise_ = list(labels).count(-1)\n",
    "\n",
    "print(\"Estimated number of clusters: %d\" % n_clusters_)\n",
    "print(\"Estimated number of noise points: %d\" % n_noise_)"
   ]
  },
  {
   "cell_type": "markdown",
   "id": "ea7551f0",
   "metadata": {},
   "source": [
    "## B DescriptiveStatistics"
   ]
  },
  {
   "cell_type": "code",
   "execution_count": 30,
   "id": "5d423145",
   "metadata": {},
   "outputs": [],
   "source": [
    "csv_data = pd.read_csv('data_csv/data_TPH_Ruifang_54stu.csv')\n",
    "X = csv_data[['brown_std', 'brown_q25', 'brown_q50', 'brown_q75']]\n",
    "y_true = csv_data[\"age\"].values.tolist()"
   ]
  },
  {
   "cell_type": "code",
   "execution_count": 31,
   "id": "34819a74",
   "metadata": {},
   "outputs": [
    {
     "name": "stdout",
     "output_type": "stream",
     "text": [
      "Estimated number of clusters: 2\n",
      "Estimated number of noise points: 4\n"
     ]
    }
   ],
   "source": [
    "db = DBSCAN(eps=5000, min_samples=3).fit(X)\n",
    "labels = db.labels_\n",
    "\n",
    "# Number of clusters in labels, ignoring noise if present.\n",
    "n_clusters_ = len(set(labels)) - (1 if -1 in labels else 0)\n",
    "n_noise_ = list(labels).count(-1)\n",
    "\n",
    "print(\"Estimated number of clusters: %d\" % n_clusters_)\n",
    "print(\"Estimated number of noise points: %d\" % n_noise_)"
   ]
  },
  {
   "cell_type": "code",
   "execution_count": null,
   "id": "7ef1f4cc",
   "metadata": {},
   "outputs": [],
   "source": []
  }
 ],
 "metadata": {
  "kernelspec": {
   "display_name": "Python 3 (ipykernel)",
   "language": "python",
   "name": "python3"
  },
  "language_info": {
   "codemirror_mode": {
    "name": "ipython",
    "version": 3
   },
   "file_extension": ".py",
   "mimetype": "text/x-python",
   "name": "python",
   "nbconvert_exporter": "python",
   "pygments_lexer": "ipython3",
   "version": "3.7.13"
  }
 },
 "nbformat": 4,
 "nbformat_minor": 5
}
