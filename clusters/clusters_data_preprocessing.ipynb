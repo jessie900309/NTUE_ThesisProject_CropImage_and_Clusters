{
 "cells": [
  {
   "cell_type": "markdown",
   "id": "b153eaee",
   "metadata": {},
   "source": [
    "### Step 0. row data"
   ]
  },
  {
   "cell_type": "code",
   "execution_count": null,
   "id": "16ac7ac7",
   "metadata": {},
   "outputs": [],
   "source": [
    "import os\n",
    "import pandas as pd\n",
    "import numpy as np\n",
    "from sklearn import metrics\n",
    "from sklearn.cluster import DBSCAN"
   ]
  },
  {
   "cell_type": "code",
   "execution_count": null,
   "id": "b2472436",
   "metadata": {},
   "outputs": [],
   "source": [
    "def get_XY(folder_path, set_color):\n",
    "    y_age = []\n",
    "    all_data = []\n",
    "    file_names = os.listdir(folder_path)\n",
    "    for file_name in file_names:\n",
    "        # Y\n",
    "        age = int(file_name[2])\n",
    "        y_age.append(age)\n",
    "        # X\n",
    "        file_path = os.path.join(folder_path, file_name)\n",
    "        df = pd.read_csv(file_path)\n",
    "        if set_color == 'all':\n",
    "            selected_data = df.iloc[:, -3:].values.T\n",
    "        elif set_color == 'R':\n",
    "            selected_data = df.iloc[:, -3:-2].values.T\n",
    "        elif set_color == 'G':\n",
    "            selected_data = df.iloc[:, -2:-1].values.T\n",
    "        elif set_color == 'B':\n",
    "            selected_data = df.iloc[:, -1:].values.T\n",
    "        all_data.append(selected_data)\n",
    "    # 轉numpy array\n",
    "    data = np.array(all_data)\n",
    "    reshaped_data = data.reshape((len(file_names), -1))\n",
    "    y_true = np.array(y_age)\n",
    "    return reshaped_data, y_true"
   ]
  },
  {
   "cell_type": "code",
   "execution_count": null,
   "id": "e29a6541",
   "metadata": {},
   "outputs": [],
   "source": [
    "f_path = '/datasets/frames_row_data_Ruifang'\n",
    "X_all, y_true = get_XY(folder_path=f_path, set_color='all')\n",
    "X_red, y_true = get_XY(folder_path=f_path, set_color='R')\n",
    "X_green, y_true = get_XY(folder_path=f_path, set_color='G')\n",
    "X_brown, y_true = get_XY(folder_path=f_path, set_color='B')\n",
    "print(\"X_all : \", X_all.shape, \"\\n\", X_all[0][:10])\n",
    "print(\"X_red : \", X_red.shape, \"\\n\", X_red[0][:10])\n",
    "print(\"X_green : \", X_green.shape, \"\\n\", X_green[0][:10])\n",
    "print(\"X_brown : \", X_brown.shape, \"\\n\", X_brown[0][:10])\n",
    "print(\"y_true : \", y_true.shape, \"\\n\", y_true[0])"
   ]
  },
  {
   "cell_type": "markdown",
   "id": "43480ab4",
   "metadata": {},
   "source": [
    "### Step 1-1. DTW (find reference)"
   ]
  },
  {
   "cell_type": "code",
   "execution_count": null,
   "id": "f70dc738",
   "metadata": {},
   "outputs": [],
   "source": [
    "from dtw import dtw\n",
    "def call_DTW(X, Y):\n",
    "    l2_norm = lambda X, Y: (X - Y) ** 2\n",
    "    dist, cost_matrix, acc_cost_matrix, path = dtw(X, Y, dist=l2_norm)\n",
    "    return dist"
   ]
  },
  {
   "cell_type": "code",
   "execution_count": null,
   "id": "912a027e",
   "metadata": {},
   "outputs": [],
   "source": [
    "def DTWtoReference(color):\n",
    "    if color == 'red':\n",
    "        work_list = X_red\n",
    "    if color == 'green':\n",
    "        work_list = X_green\n",
    "    if color == 'brown':\n",
    "        work_list = X_brown\n",
    "    all_dist = []\n",
    "    loop_cnt = 0\n",
    "    for work1 in work_list:\n",
    "        loop_cnt += 1\n",
    "        work1_dist = 0\n",
    "        for work2 in work_list:\n",
    "            dist = call_DTW(work1, work2) / (10**5)\n",
    "            work1_dist += dist\n",
    "        all_dist.append(work1_dist)\n",
    "    # reference_data_index = all_dist.index(min(all_dist))\n",
    "    # print(f\"reference : index[{all_dist.index(min(all_dist))}] min={min(all_dist)}\")\n",
    "    return all_dist"
   ]
  },
  {
   "cell_type": "code",
   "execution_count": null,
   "id": "5aa0bbd5",
   "metadata": {},
   "outputs": [],
   "source": [
    "red_dist = DTWtoReference(color='red')"
   ]
  },
  {
   "cell_type": "code",
   "execution_count": null,
   "id": "93d01935",
   "metadata": {},
   "outputs": [],
   "source": [
    "green_dist = DTWtoReference(color='green')"
   ]
  },
  {
   "cell_type": "code",
   "execution_count": null,
   "id": "d3fc76dc",
   "metadata": {},
   "outputs": [],
   "source": [
    "brown_dist = DTWtoReference(color='brown')"
   ]
  },
  {
   "cell_type": "code",
   "execution_count": null,
   "id": "023d9661",
   "metadata": {},
   "outputs": [],
   "source": [
    "with open('red_dist.txt', 'w') as f:\n",
    "    for line in red_dist:\n",
    "        f.write(str(red_dist.index(line)))\n",
    "        f.write('  ')\n",
    "        f.write(str(line))\n",
    "        f.write('\\n')\n",
    "Sort_red = sorted(red_dist)\n",
    "print(\"Red : \")\n",
    "for r in Sort_red:\n",
    "    print(f\"[{red_dist.index(r)}] \", end='')\n",
    "\n",
    "with open('green_dist.txt', 'w') as f:\n",
    "    for line in green_dist:\n",
    "        f.write(str(green_dist.index(line)))\n",
    "        f.write('  ')\n",
    "        f.write(str(line))\n",
    "        f.write('\\n')\n",
    "Sort_green = sorted(green_dist)\n",
    "print(\"\\nGreen : \")\n",
    "for g in Sort_green:\n",
    "    print(f\"[{green_dist.index(g)}] \", end='')\n",
    "\n",
    "with open('brown_dist.txt', 'w') as f:\n",
    "    for line in brown_dist:\n",
    "        f.write(str(brown_dist.index(line)))\n",
    "        f.write('  ')\n",
    "        f.write(str(line))\n",
    "        f.write('\\n')\n",
    "Sort_brown = sorted(brown_dist)\n",
    "print(\"\\nBrown : \")\n",
    "for r in Sort_brown:\n",
    "    print(f\"[{brown_dist.index(r)}] \", end='')"
   ]
  },
  {
   "cell_type": "markdown",
   "id": "26e24fe8",
   "metadata": {},
   "source": [
    "### Step 1-2. set  reference index"
   ]
  },
  {
   "cell_type": "code",
   "execution_count": null,
   "id": "e0d26045",
   "metadata": {},
   "outputs": [],
   "source": [
    "reference_data_index = 25"
   ]
  },
  {
   "cell_type": "code",
   "execution_count": null,
   "id": "9db24750",
   "metadata": {},
   "outputs": [],
   "source": [
    "from PIL import Image\n",
    "import os\n",
    "import matplotlib.pyplot as plt\n",
    "\n",
    "f_path = 'C:/Users/zombie/PycharmProjects/NTUE_ThesisProject_ImageProcessing/data_testimage/data_testimage_TPH_Ruifang/'\n",
    "reference_path = f_path + os.listdir(f_path)[reference_data_index]\n",
    "tomato_img = Image.open(reference_path)\n",
    "\n",
    "fig = plt.gcf()\n",
    "fig.set_size_inches(2,2)\n",
    "plt.imshow(tomato_img, cmap='binary')\n",
    "plt.show()"
   ]
  },
  {
   "cell_type": "markdown",
   "id": "a878aa2c",
   "metadata": {},
   "source": [
    "### Step 2. circular DTW (find bias)"
   ]
  },
  {
   "cell_type": "code",
   "execution_count": null,
   "id": "0a24e126",
   "metadata": {},
   "outputs": [],
   "source": [
    "# 以紅色為基準\n",
    "reference_X0 = X_red[reference_data_index] # index[25]"
   ]
  },
  {
   "cell_type": "code",
   "execution_count": null,
   "id": "bf0101a9",
   "metadata": {},
   "outputs": [],
   "source": [
    "import csv\n",
    "def circularDTW(color):\n",
    "    # 以紅色為基準\n",
    "    if color == 'red':\n",
    "        work_list = X_red\n",
    "    if color == 'green':\n",
    "        work_list = X_green\n",
    "    if color == 'brown':\n",
    "        work_list = X_brown\n",
    "    # 循環對齊後，紀錄偏移量 bias\n",
    "    bias_list = []\n",
    "    for i in range(len(work_list)):\n",
    "        work = work_list[i]\n",
    "        min_distance = call_DTW(work, reference_X0)\n",
    "        min_work = work\n",
    "        bias = 0\n",
    "        for shift in range(len(work)):\n",
    "            work = np.append(work[1:],[work[0]]) # 將[0]移至[last]\n",
    "            dist = call_DTW(work, reference_X0)\n",
    "            if dist < min_distance:\n",
    "                min_distance = dist\n",
    "                min_work = work\n",
    "                # 偏移量 bias\n",
    "                bias = shift+1\n",
    "        # 紀錄偏移量 bias\n",
    "        bias_list.append(bias)\n",
    "    return bias_list"
   ]
  },
  {
   "cell_type": "code",
   "execution_count": null,
   "id": "813cfd3d",
   "metadata": {},
   "outputs": [],
   "source": [
    "red_bias_list = circularDTW(color='red')"
   ]
  },
  {
   "cell_type": "code",
   "execution_count": null,
   "id": "398debc7",
   "metadata": {},
   "outputs": [],
   "source": [
    "print(red_bias_list)\n",
    "with open('get_bias_from_red_idx25.txt', 'w') as f:\n",
    "    for line in red_bias_list:\n",
    "        f.write(str(red_bias_list.index(line)))\n",
    "        f.write('  ')\n",
    "        f.write(str(line))\n",
    "        f.write('\\n')"
   ]
  },
  {
   "cell_type": "code",
   "execution_count": null,
   "id": "2873f60e",
   "metadata": {},
   "outputs": [],
   "source": [
    "# with open('datasets_preprocessing/dtw_find_reference/red_dist.txt', 'r') as fp:\n",
    "#     red_dist = fp.readline()\n",
    "# with open('datasets_preprocessing/dtw_find_reference/green_dist.txt', 'r') as fp:\n",
    "#     green_dist = fp.readline()\n",
    "# with open('datasets_preprocessing/dtw_find_reference/brown_dist.txt', 'r') as fp:\n",
    "#     brown_dist = fp.readline()"
   ]
  },
  {
   "cell_type": "markdown",
   "id": "b7ba152c",
   "metadata": {},
   "source": [
    "### Step 3. align with reference (shift)"
   ]
  },
  {
   "cell_type": "code",
   "execution_count": null,
   "id": "2ed66e05",
   "metadata": {},
   "outputs": [],
   "source": [
    "# 以index[25]紅色為基準的偏移量 red_bias_list\n",
    "# shift 綠色與棕色\n",
    "def shift_row_data(color):\n",
    "    if color == 'green':\n",
    "        work_list = X_green\n",
    "        reference_X = X_green[reference_data_index] # index[25]\n",
    "    if color == 'brown':\n",
    "        work_list = X_brown\n",
    "        reference_X = X_brown[reference_data_index] # index[25]\n",
    "    # 循環對齊\n",
    "    with open(f'shift_{color}.csv', 'w', newline='') as csvfile:\n",
    "        writer = csv.writer(csvfile)\n",
    "        for i in range(len(work_list)):\n",
    "            red_bias = red_bias_list[i]\n",
    "            work = work_list[i]\n",
    "            for _ in range(red_bias):\n",
    "                work = np.append(work[1:],[work[0]])\n",
    "            # writerow\n",
    "            new_row = work - reference_X\n",
    "            writer.writerow(new_row)"
   ]
  },
  {
   "cell_type": "code",
   "execution_count": null,
   "id": "97a28e31",
   "metadata": {},
   "outputs": [],
   "source": [
    "shift_row_data(color='red')"
   ]
  },
  {
   "cell_type": "code",
   "execution_count": null,
   "id": "311a7db2",
   "metadata": {},
   "outputs": [],
   "source": [
    "shift_row_data(color='green')"
   ]
  },
  {
   "cell_type": "code",
   "execution_count": null,
   "id": "bacb1fa9",
   "metadata": {},
   "outputs": [],
   "source": [
    "shift_row_data(color='brown')"
   ]
  }
 ],
 "metadata": {
  "kernelspec": {
   "display_name": "Python 3 (ipykernel)",
   "language": "python",
   "name": "python3"
  },
  "language_info": {
   "codemirror_mode": {
    "name": "ipython",
    "version": 3
   },
   "file_extension": ".py",
   "mimetype": "text/x-python",
   "name": "python",
   "nbconvert_exporter": "python",
   "pygments_lexer": "ipython3",
   "version": "3.7.13"
  }
 },
 "nbformat": 4,
 "nbformat_minor": 5
}
